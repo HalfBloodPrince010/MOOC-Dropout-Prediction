{
  "nbformat": 4,
  "nbformat_minor": 0,
  "metadata": {
    "colab": {
      "name": "TestFeatureGeneration.ipynb",
      "provenance": []
    },
    "kernelspec": {
      "name": "python3",
      "display_name": "Python 3"
    }
  },
  "cells": [
    {
      "cell_type": "markdown",
      "metadata": {
        "id": "2BBKyd7sYPOJ",
        "colab_type": "text"
      },
      "source": [
        "This notebook is for feature generation of test data. This needs all the five  raw csv's of test data given from the KDD. We put the data generated in each cell(each feature extraction), into a new csv. Finally, all generated csv's are merged to form a final csv.\n",
        "\n",
        "For the purpose of testing the model, we have **attached the Final generated csv** which can be used to train and test the model. Generation of these individual features takes lot of time."
      ]
    },
    {
      "cell_type": "code",
      "metadata": {
        "id": "O-dLaUEGrMZO",
        "colab_type": "code",
        "colab": {}
      },
      "source": [
        "import numpy as np\n",
        "import pandas as pd"
      ],
      "execution_count": 0,
      "outputs": []
    },
    {
      "cell_type": "code",
      "metadata": {
        "id": "ygpdAUrYEmxB",
        "colab_type": "code",
        "colab": {}
      },
      "source": [
        "import os\n",
        "from getpass import getpass\n",
        "import urllib\n",
        "\n",
        "cmd_string = 'git clone https://github.com/srivathsa-rao/MOOC-Dropout-Prediction.git MLProject'\n",
        "\n",
        "os.system(cmd_string)"
      ],
      "execution_count": 0,
      "outputs": []
    },
    {
      "cell_type": "code",
      "metadata": {
        "id": "Lu5vSU2jrSlx",
        "colab_type": "code",
        "colab": {}
      },
      "source": [
        "import os\n",
        "os.chdir('/content/MLProject/submissions/originalData')"
      ],
      "execution_count": 0,
      "outputs": []
    },
    {
      "cell_type": "code",
      "metadata": {
        "id": "1YQZmKVCGRQD",
        "colab_type": "code",
        "colab": {}
      },
      "source": [
        "!tar -xf test.tar.gz"
      ],
      "execution_count": 0,
      "outputs": []
    },
    {
      "cell_type": "code",
      "metadata": {
        "id": "V8vrcHtVGUR-",
        "colab_type": "code",
        "colab": {}
      },
      "source": [
        "os.chdir('/content/MLProject/submissions/originalData/test')"
      ],
      "execution_count": 0,
      "outputs": []
    },
    {
      "cell_type": "code",
      "metadata": {
        "id": "39ObmREsGWb5",
        "colab_type": "code",
        "colab": {}
      },
      "source": [
        "!mkdir generated"
      ],
      "execution_count": 0,
      "outputs": []
    },
    {
      "cell_type": "code",
      "metadata": {
        "id": "Pa4FYIC1GYih",
        "colab_type": "code",
        "colab": {}
      },
      "source": [
        "!mkdir merged"
      ],
      "execution_count": 0,
      "outputs": []
    },
    {
      "cell_type": "markdown",
      "metadata": {
        "id": "JnvZhE05HJKV",
        "colab_type": "text"
      },
      "source": [
        "You can upload the latest one generated in the train notebook or you can copy the already generated one committed in git."
      ]
    },
    {
      "cell_type": "code",
      "metadata": {
        "id": "qb7TDlZfGzT9",
        "colab_type": "code",
        "colab": {}
      },
      "source": [
        "!cp /content/MLProject/data/test/generated/completion_rate_for_courses.csv /content/MLProject/submissions/originalData/test/generated"
      ],
      "execution_count": 0,
      "outputs": []
    },
    {
      "cell_type": "code",
      "metadata": {
        "id": "QnRsHZcQHW6i",
        "colab_type": "code",
        "colab": {}
      },
      "source": [
        "!cp /content/MLProject/data/test/generated/individual_completion_rate.csv /content/MLProject/submissions/originalData/test/generated"
      ],
      "execution_count": 0,
      "outputs": []
    },
    {
      "cell_type": "code",
      "metadata": {
        "id": "dtOsbCCJrVJ4",
        "colab_type": "code",
        "colab": {}
      },
      "source": [
        "#test data\n",
        "\n",
        "object_data = pd.read_csv('object.csv')\n",
        "dates_data = pd.read_csv('date.csv')\n",
        "\n",
        "log_data = pd.read_csv('log_train.csv')\n",
        "enrollment_data = pd.read_csv('enrollment_train.csv')\n",
        "\n",
        "truth_data = pd.read_csv('truth_train.csv', names=['enrollment_id', 'label'])"
      ],
      "execution_count": 0,
      "outputs": []
    },
    {
      "cell_type": "markdown",
      "metadata": {
        "id": "PLP8fS0eZUEp",
        "colab_type": "text"
      },
      "source": [
        "**Feature Extraction**\n",
        "\n",
        "We have extraced the number of course the user has enrolled in from the enrollment data. This has been extracted with the intention that the number of courses of an user will have impact on whether the user completes or drops a particular course.\n",
        "\n",
        "The results are stored as part of - 'number_of_course.csv'"
      ]
    },
    {
      "cell_type": "code",
      "metadata": {
        "id": "Id3fatTrrcGG",
        "colab_type": "code",
        "colab": {}
      },
      "source": [
        "#gives number of course taken by each user.\n",
        "# no need to handle any data imputations.\n",
        "username = []\n",
        "number_of_course = []\n",
        "\n",
        "for i in range(enrollment_data.shape[0]):\n",
        "    if enrollment_data['username'][i] not in username:\n",
        "        username.append(enrollment_data['username'][i])\n",
        "        number_of_course.append(enrollment_data[enrollment_data['username'] == enrollment_data['username'][i]].shape[0])\n",
        "\n",
        "user_course = pd.DataFrame({'username':username,'number_of_course':number_of_course})\n",
        "\n",
        "parallel_courses = user_course.merge(enrollment_data, left_on='username', right_on='username', how='inner')[['enrollment_id', 'number_of_course']]\n",
        "\n",
        "parallel_courses.to_csv('generated/number_of_course.csv', index=False)"
      ],
      "execution_count": 0,
      "outputs": []
    },
    {
      "cell_type": "markdown",
      "metadata": {
        "id": "CLVtEC8xVzkX",
        "colab_type": "text"
      },
      "source": [
        "We have extracted parallel enrollments of every user. If a user is enrolled in more courses simulataneously, the probability that he completes all his courses might be low and vice-versa. So, this might have impact on the decision of whether an user will drop or complete the course.\n",
        "\n",
        "Extracted feature is stored in - parallel_enrollments.csv"
      ]
    },
    {
      "cell_type": "code",
      "metadata": {
        "id": "tEX8NqWmtCZD",
        "colab_type": "code",
        "colab": {}
      },
      "source": [
        "#Code to fetch parallel enrollments....Use index=False while using to_csv\n",
        "\n",
        "pd.options.mode.chained_assignment = None\n",
        "\n",
        "username = []\n",
        "number_of_course = []\n",
        "\n",
        "def interval_overlaps(a, b):\n",
        "  return min(a['to'], b['to']) - max(a['from'], b['from']) > np.timedelta64(0)\n",
        "\n",
        "\n",
        "def count_overlaps(df1):\n",
        "  #print(df1)\n",
        "  return pd.Series([df1.apply(lambda x: interval_overlaps(x, df1.iloc[i]), axis=1).sum() - 1 for i in range(len(df1))], df1.index)\n",
        "\n",
        "def get_parallel_enrollment_cnt(course_id_data_frame):\n",
        "  if len(course_id_data_frame) < 2:\n",
        "    return 0\n",
        "  df = dates_data.loc[dates_data['course_id'].isin(course_id_data_frame)]\n",
        "  df['from'] = pd.to_datetime(df['from']) \n",
        "  df['to'] = pd.to_datetime(df['to'])\n",
        "  overlap_list = df.groupby([True]*len(df)).apply(count_overlaps).values[0]\n",
        "  if sum(overlap_list) == 0:\n",
        "    return 0\n",
        "  else:\n",
        "    return sum(overlap_list)//np.count_nonzero(np.array(overlap_list))\n",
        "\n",
        "for i in range(enrollment_data.shape[0]):\n",
        "    if enrollment_data['username'][i] not in username:\n",
        "        username.append(enrollment_data['username'][i])\n",
        "        user_df = enrollment_data.loc[enrollment_data['username'] == username[-1]]\n",
        "        number_of_course.append(get_parallel_enrollment_cnt(user_df['course_id']))\n",
        "    \n",
        "\n",
        "user_course = pd.DataFrame({'username':username,'parallel_enrollments':number_of_course})\n",
        "\n",
        "parallel_courses = user_course.merge(enrollment_data, left_on='username', right_on='username', how='inner')[['enrollment_id', 'parallel_enrollments']]\n",
        "\n",
        "parallel_courses.to_csv('generated/parallel_enrollments.csv', index=False)\n"
      ],
      "execution_count": 0,
      "outputs": []
    },
    {
      "cell_type": "markdown",
      "metadata": {
        "id": "anPlmy9PZbgk",
        "colab_type": "text"
      },
      "source": [
        "We have extracted number of users who have enrolled in a particular course. If a course is interesting or popular, there might be more enrollments and this would result in more completion. On the contrary, if the course is challenging, it might have less enrollments and more drop outs among the enrolled students.\n",
        "\n",
        "Th extracted data is stored in - number_of_users_per_course.csv"
      ]
    },
    {
      "cell_type": "code",
      "metadata": {
        "id": "OrKI9ovDrdZi",
        "colab_type": "code",
        "colab": {}
      },
      "source": [
        "# gives number of users taken the same course. Merge this with the enrollment.\n",
        "# no need to handle any data imputations.\n",
        "course_id = []\n",
        "number_of_users = []\n",
        "\n",
        "for course in enrollment_data['course_id'].unique():\n",
        "  course_id.append(course)\n",
        "  number_of_users.append(len(enrollment_data[enrollment_data['course_id'] == course]))\n",
        "\n",
        "number_of_enrollments_per_course = pd.DataFrame({'course_id':course_id,'number_of_users_in_course':number_of_users})\n",
        "\n",
        "merge_enrollments_with_course = enrollment_data.merge(number_of_enrollments_per_course, left_on='course_id', right_on='course_id', how='inner')[['enrollment_id', 'number_of_users_in_course']]\n",
        "merge_enrollments_with_course.to_csv('generated/number_of_users_per_course.csv', index=False)"
      ],
      "execution_count": 0,
      "outputs": []
    },
    {
      "cell_type": "markdown",
      "metadata": {
        "id": "gezw5OO9WMnQ",
        "colab_type": "text"
      },
      "source": [
        "The number of modules in the enrolled course which the user has accessed is deduced from the enrollment and log_train csv. This might have an impact on whether a student drops the course or completes course. Higher the number of modules accessed per course might have positive impact toward the completion of the course.\n",
        "\n",
        "The extracted data is stored in - number_of_module.csv"
      ]
    },
    {
      "cell_type": "code",
      "metadata": {
        "id": "TMXkinLIrgyk",
        "colab_type": "code",
        "colab": {}
      },
      "source": [
        "# Number of module accessed\n",
        "# no need to handle any data imputations.\n",
        "enrollment_id = []\n",
        "number_of_module = []\n",
        "\n",
        "for enrollment in log_data['enrollment_id'].unique():\n",
        "  enr = log_data[log_data['enrollment_id'] == enrollment]\n",
        "  number_of_objects_enr =  len(enr['object'].unique())\n",
        "  enrollment_id.append(enrollment)\n",
        "  number_of_module.append(number_of_objects_enr)\n",
        "\n",
        "number_of_objects = pd.DataFrame({'enrollment_id':enrollment_id,'number_of_module':number_of_module})\n",
        "number_of_objects.to_csv('generated/number_of_module.csv', index=False)"
      ],
      "execution_count": 0,
      "outputs": []
    },
    {
      "cell_type": "markdown",
      "metadata": {
        "id": "r-5n9SfPWOkC",
        "colab_type": "text"
      },
      "source": [
        "This feature is an extension of the feature extracted in number_of_module.csv. This generates the percentage of module accessed by the user in a course.\n",
        "This might show the level of interest of the student toward the course.\n",
        "\n",
        "Extracted feature is stored in percentage_of_module.csv"
      ]
    },
    {
      "cell_type": "code",
      "metadata": {
        "id": "gwS16bLtrvM4",
        "colab_type": "code",
        "colab": {}
      },
      "source": [
        "# Percentage of module accessed\n",
        "# no need to handle any data imputations.\n",
        "enrollment_id = []\n",
        "percentage_of_module = []\n",
        "\n",
        "modules_per_course = {}\n",
        "\n",
        "for course in object_data['course_id'].unique():\n",
        "  course_data_in_object_data = object_data[object_data['course_id'] == course]\n",
        "  course_data_in_object_data = course_data_in_object_data.dropna(subset=['children'])\n",
        "  number_of_module_in_course = len(course_data_in_object_data['module_id'].unique())\n",
        "\n",
        "  modules_per_course[course] = number_of_module_in_course\n",
        "\n",
        "\n",
        "for enrollment in log_data['enrollment_id'].unique():\n",
        "  enr = log_data[log_data['enrollment_id'] == enrollment]\n",
        "  number_of_objects_enr =  len(enr['object'].unique())\n",
        "  number_of_modules_in_course = modules_per_course[enrollment_data[enrollment_data['enrollment_id'] == enrollment].course_id.values[0]]\n",
        "  enrollment_id.append(enrollment)\n",
        "  percentage_of_module.append(number_of_objects_enr/number_of_modules_in_course)\n",
        "\n",
        "percentage_of_objects = pd.DataFrame({'enrollment_id':enrollment_id,'percentage_of_module':percentage_of_module})\n",
        "percentage_of_objects.to_csv('generated/percentage_of_module.csv', index=False)"
      ],
      "execution_count": 0,
      "outputs": []
    },
    {
      "cell_type": "markdown",
      "metadata": {
        "id": "xjlg-6y6zB5U",
        "colab_type": "text"
      },
      "source": [
        "We have extracted time spent on each browser or server event by the user in the course. This helps us to analyse the amount of time a user spends in accessing each course.\n",
        "\n",
        "There are lot of things student can perform on a course like watcihng course video, doing an assignment etc. We have extracted the time spent by the user (browser) and the server on each kind of event on modules of the courses.\n",
        "This is extracted based on the assumption that consecutive events timestamp can be used to generate the time spent on the 1st event.\n",
        "\n",
        "Extracted data is stored in - time_data.csv"
      ]
    },
    {
      "cell_type": "code",
      "metadata": {
        "id": "1F4AgxVDryh0",
        "colab_type": "code",
        "colab": {}
      },
      "source": [
        "# time duration spent on each event by the user in the course!\n",
        "\n",
        "import time\n",
        "from datetime import datetime\n",
        "from dateutil.parser import parse\n",
        "\n",
        "\n",
        "event_data_frame = pd.DataFrame(np.zeros((enrollment_data.shape[0],15)), columns = ['enrollment_id','time_access_browser','time_access_server','time_navigate_browser','time_navigate_server','time_problem_browser','time_problem_server','time_page_close_server','time_page_close_browser','time_video_server','time_video_browser','time_discussion_server','time_discussion_browser','time_wiki_server','time_wiki_browser'])\n",
        "event_data_frame[\"enrollment_id\"] = enrollment_data[\"enrollment_id\"]\n",
        "\n",
        "enrollment_index = 0\n",
        "last_seen_enrollment = log_data[\"enrollment_id\"][0]\n",
        "\t\n",
        "data_frame = event_data_frame.to_dict()\n",
        "\n",
        "for i in range(log_data.shape[0] -1):\n",
        "  enrollment_id = log_data[\"enrollment_id\"][i]\n",
        "  \n",
        "  if enrollment_id != last_seen_enrollment:\n",
        "    enrollment_index += 1\n",
        "    last_seen_enrollment = enrollment_id\n",
        "  \n",
        "  event = log_data[\"event\"][i]\n",
        "  source = log_data[\"source\"][i]\n",
        "\n",
        "  if log_data[\"enrollment_id\"][i+1] == log_data[\"enrollment_id\"][i] :\n",
        "    time_spent = (parse(log_data[\"time\"][i+1]) - parse(log_data[\"time\"][i])).total_seconds()\n",
        "    if  time_spent < 7200:\n",
        "      time_span = time_spent\n",
        "    else:\n",
        "      time_span = 0\n",
        "\n",
        "  event_type = \"time_\"+event+\"_\"+source\n",
        "  data_frame[event_type][enrollment_index] += time_span\n",
        "\n",
        "event_data_frame = pd.DataFrame.from_dict(data_frame)\n",
        "event_data_frame.to_csv('generated/time_data_old.csv', index=False)"
      ],
      "execution_count": 0,
      "outputs": []
    },
    {
      "cell_type": "code",
      "metadata": {
        "id": "43nFIECor2wV",
        "colab_type": "code",
        "colab": {}
      },
      "source": [
        "time_data = pd.read_csv('generated/time_data_old.csv')\n",
        "#time_data.columns\n",
        "\n",
        "# del time_data['time_navigate_browser']\n",
        "# del time_data['time_discussion_browser']\n",
        "# del time_data['time_page_close_server']\n",
        "# del time_data['time_wiki_browser']\n",
        "# del time_data['time_video_server']\n",
        "\n",
        "time_data.to_csv('generated/time_data.csv', index=False)"
      ],
      "execution_count": 0,
      "outputs": []
    },
    {
      "cell_type": "markdown",
      "metadata": {
        "id": "CwIWbVmpzF40",
        "colab_type": "text"
      },
      "source": [
        "If a user regularly spends more time on a course, it helps us to infer that the user will complete the course and vice-versa. So, we have also extracted the number of logs which are less than 60 seconds in any event. \n",
        "\n",
        "This is in extension to the time related feature generated above. This shows the count of time bursts on the events which are less than one minute. Students wouldn't have done anything significant in a minute on a module. More number of such events might have an negative impact on the completion of the course.\n",
        "\n",
        "Extracted data is stored in the - time_data_60.csv\n"
      ]
    },
    {
      "cell_type": "code",
      "metadata": {
        "id": "_Eeg305Rsxag",
        "colab_type": "code",
        "colab": {}
      },
      "source": [
        "# number of logs less than 60 seconds on any event\n",
        "\n",
        "event_data_frame = pd.DataFrame(np.zeros((enrollment_data.shape[0],15)), columns = ['enrollment_id','count_access_browser','count_access_server','count_navigate_browser','count_navigate_server','count_problem_browser','count_problem_server','count_page_close_server','count_page_close_browser','count_video_server','count_video_browser','count_discussion_server','count_discussion_browser','count_wiki_server','count_wiki_browser'])\n",
        "event_data_frame[\"enrollment_id\"] = enrollment_data[\"enrollment_id\"]\n",
        "\n",
        "enrollment_index = 0\n",
        "last_seen_enrollment = log_data[\"enrollment_id\"][0]\n",
        "\t\n",
        "data_frame = event_data_frame.to_dict()\n",
        "\n",
        "for i in range(log_data.shape[0] -1):\n",
        "  enrollment_id = log_data[\"enrollment_id\"][i]\n",
        "  \n",
        "  if enrollment_id != last_seen_enrollment:\n",
        "    enrollment_index += 1\n",
        "    last_seen_enrollment = enrollment_id\n",
        "  \n",
        "  event = log_data[\"event\"][i]\n",
        "  source = log_data[\"source\"][i]\n",
        "\n",
        "  if log_data[\"enrollment_id\"][i+1] == log_data[\"enrollment_id\"][i] :\n",
        "    time_spent = (parse(log_data[\"time\"][i+1]) - parse(log_data[\"time\"][i])).total_seconds()\n",
        "    if time_spent < 60:\n",
        "      event_type = \"count_\"+event+\"_\"+source\n",
        "      data_frame[event_type][enrollment_index] += 1\n",
        "\n",
        "event_data_frame = pd.DataFrame.from_dict(data_frame)\n",
        "event_data_frame.to_csv('generated/time_data_60_old.csv', index=False)"
      ],
      "execution_count": 0,
      "outputs": []
    },
    {
      "cell_type": "code",
      "metadata": {
        "id": "sThVCox7szTp",
        "colab_type": "code",
        "colab": {}
      },
      "source": [
        "event_data_frame = pd.read_csv('generated/time_data_60_old.csv')\n",
        "# del event_data_frame['count_navigate_browser']\n",
        "# del event_data_frame['count_discussion_browser']\n",
        "# del event_data_frame['count_page_close_server']\n",
        "# del event_data_frame['count_wiki_browser']\n",
        "# del event_data_frame['count_video_server']\n",
        "\n",
        "event_data_frame.to_csv('generated/time_data_60.csv', index=False)"
      ],
      "execution_count": 0,
      "outputs": []
    },
    {
      "cell_type": "markdown",
      "metadata": {
        "id": "Hbw8Tw0kWqIM",
        "colab_type": "text"
      },
      "source": [
        "The number of days every student spends on the modules of the enrolled course is an important criteria to predict the completion of the coursework. If a student is least interested, he might spend less number of days on the course and vice-versa.\n",
        "We have extracted this data from the log_data and enrollment.\n",
        "\n",
        "Extracted data is stored in - active_days.csv"
      ]
    },
    {
      "cell_type": "code",
      "metadata": {
        "id": "OB52MeGss5A7",
        "colab_type": "code",
        "colab": {}
      },
      "source": [
        "#Fetch the number of active days for each enrollment\n",
        "import time\n",
        "from datetime import datetime\n",
        "from dateutil.parser import parse\n",
        "\n",
        "enrollments = []\n",
        "active_days = []\n",
        "\n",
        "for enrollment in log_data['enrollment_id'].unique():\n",
        "  number_of_active_days = pd.to_datetime(log_data[log_data['enrollment_id'] == enrollment]['time']).dt.date.unique().shape[0]\n",
        "  print(\"Enrollment ID :{}\".format(enrollment))\n",
        "  enrollments.append(enrollment)\n",
        "  active_days.append(number_of_active_days)\n",
        "\n",
        "\n",
        "number_of_active_day = pd.DataFrame({'enrollment_id':enrollments,'active_days':active_days})\n",
        "number_of_active_day.to_csv('generated/active_days.csv', index=False)\n",
        "# merge_enrollments_with_course.to_csv('train/completion_rate_for_courses.csv', index='False')\n",
        "\n",
        "#local_enrollment[\"time\"].map(lambda t: t.date()).unique()\n",
        "#pd.to_datetime(local_enrollment['time']).dt.date.unique().shape[0]\n",
        "#number_of_active_day\n"
      ],
      "execution_count": 0,
      "outputs": []
    },
    {
      "cell_type": "markdown",
      "metadata": {
        "id": "YiD87FzHWu7Q",
        "colab_type": "text"
      },
      "source": [
        "Access of modules by students on the enrolled courses in every week of course can help in knowing the access pattern of the students. High number of access of the modules in all weeks would result in low drop rate for the course. \n",
        "\n",
        "The extracted data is stored in - wk_cnts.csv"
      ]
    },
    {
      "cell_type": "code",
      "metadata": {
        "id": "xAnZZu-2tEfp",
        "colab_type": "code",
        "colab": {}
      },
      "source": [
        "#Code to fetch activities in weeks....\n",
        "\n",
        "from datetime import timedelta\n",
        "\n",
        "dates_data['from'] = pd.to_datetime(dates_data['from'])\n",
        "dates_data['to'] = pd.to_datetime(dates_data['to'])\n",
        "log_data['time'] = pd.to_datetime(log_data['time'])\n",
        "\n",
        "enrollment_ids = []\n",
        "week_activity_count = [[],[],[],[], []]\n",
        "\n",
        "def append_wk_counts(start_from, time_values):\n",
        "  start_date = start_from\n",
        "  end_date = start_date + pd.Timedelta(timedelta(days = 7))\n",
        "  for i in range(5):\n",
        "    week_activity_count[i].append(np.sum((start_date <= time_values) & (end_date > time_values), axis =0 ))\n",
        "    start_date = end_date\n",
        "    end_date = start_date + pd.Timedelta(timedelta(days = 7))\n",
        "  \n",
        "\n",
        "for i in range(enrollment_data.shape[0]):\n",
        "    enrollment_ids.append(enrollment_data['enrollment_id'][i])\n",
        "    start_end = dates_data.loc[dates_data['course_id'] == enrollment_data['course_id'][i]][['from','to']]\n",
        "    time_values = log_data.loc[log_data['enrollment_id'] == enrollment_data['enrollment_id'][i]]['time']\n",
        "    append_wk_counts(start_end['from'].values, time_values.values)\n",
        "\n",
        "\n",
        "wk_cnts= pd.DataFrame({'enrollment_id':enrollment_ids,'week1_activity_count':week_activity_count[0], 'week2_activity_count':week_activity_count[1], 'week3_activity_count':week_activity_count[2], 'week4_activity_count':week_activity_count[3], 'week5_activity_count':week_activity_count[4]})\n",
        "\n",
        "wk_cnts_csv = wk_cnts.merge(enrollment_data, left_on='enrollment_id', right_on='enrollment_id', how='inner')[['enrollment_id', 'week1_activity_count', 'week2_activity_count', 'week3_activity_count','week4_activity_count', 'week5_activity_count']]\n",
        "\n",
        "wk_cnts_csv.to_csv('generated/wk_cnts.csv', index=False)"
      ],
      "execution_count": 0,
      "outputs": []
    },
    {
      "cell_type": "markdown",
      "metadata": {
        "id": "-cbVvJQeWzfR",
        "colab_type": "text"
      },
      "source": [
        "The number of 30 minute user sessions doing different activities on the course modules. Large number of access means, high interest and may result in completion of course.\n",
        "\n",
        "The extracted data is stored in - wk_session_cnts.csv"
      ]
    },
    {
      "cell_type": "code",
      "metadata": {
        "id": "CeBYCa6Ztb7I",
        "colab_type": "code",
        "colab": {}
      },
      "source": [
        "#get sessions count..\n",
        "#activities \n",
        "\n",
        "#Code to fetch activities in weeks....\n",
        "\n",
        "from datetime import timedelta\n",
        "\n",
        "dates_data['from'] = pd.to_datetime(dates_data['from'])\n",
        "dates_data['to'] = pd.to_datetime(dates_data['to'])\n",
        "log_data['time'] = pd.to_datetime(log_data['time'])\n",
        "\n",
        "enrollment_ids = []\n",
        "week_session_count = [[],[],[],[], []]\n",
        "daily_activity_count = [[] for i in range(30)]\n",
        "\n",
        "def give_number_of_sessions_in_week(start_from, time_values, end_time):\n",
        "  \n",
        "  # print(\"start time of event in week\", start_from)\n",
        "  # print(\"End time of event in week\", end_time)\n",
        "\n",
        "  start_date = start_from\n",
        "  end_date = start_date + pd.Timedelta(timedelta(minutes= 30))\n",
        "\n",
        "  # print(\"end date 2\", end_date)\n",
        "  session_count = 0\n",
        "  # print(end_time)\n",
        "  while end_date < end_time:\n",
        "    condition = (pd.to_datetime(start_date) <= time_values) & (pd.to_datetime(end_date) > time_values)\n",
        "    events = np.extract(condition, time_values)\n",
        "\n",
        "    number_of_events = len(events)\n",
        "    #print(number_of_events)\n",
        "\n",
        "    if number_of_events >= 1:\n",
        "      session_count += 1\n",
        "    \n",
        "    start_date = end_date\n",
        "    end_date = start_date + pd.Timedelta(timedelta(minutes= 30))\n",
        "  return session_count\n",
        "    \n",
        "\n",
        "def append_wk_counts(start_from, time_values):\n",
        "\n",
        "  #print(\"start_from 1\", start_from)\n",
        "  start_date = start_from\n",
        "  end_date = start_date + pd.Timedelta(timedelta(days = 7))\n",
        "\n",
        "  for i in range(5):\n",
        "\n",
        "    number_of_session_in_week = 0\n",
        "\n",
        "    condition = (start_date <= time_values) & (end_date > time_values)\n",
        "\n",
        "    events = np.extract(condition, time_values)\n",
        "    #print(len(events))\n",
        "    if len(events) > 0:\n",
        "      number_of_session_in_week = give_number_of_sessions_in_week(np.array(events[0]), pd.to_datetime(events), end_date[0])\n",
        "    else:\n",
        "       number_of_session_in_week = 0\n",
        "    #number_of_session_in_week = len(events)\n",
        "    week_session_count[i].append(number_of_session_in_week)\n",
        "    start_date = end_date\n",
        "    end_date = start_date + pd.Timedelta(timedelta(days = 7))\n",
        "    #print(events)\n",
        "  \n",
        "\n",
        "for i in range(enrollment_data.shape[0]):\n",
        "    enrollment_ids.append(enrollment_data['enrollment_id'][i])\n",
        "    start_end = dates_data.loc[dates_data['course_id'] == enrollment_data['course_id'][i]][['from','to']]\n",
        "    time_values = log_data.loc[log_data['enrollment_id'] == enrollment_data['enrollment_id'][i]]['time']\n",
        "    append_wk_counts(start_end['from'].values, time_values.values)\n",
        "    print(\"enrollment id:\", i)\n",
        "\n",
        "\n",
        "wk_cnts= pd.DataFrame({'enrollment_id':enrollment_ids,'week1_session_count':week_session_count[0], 'week2_session_count':week_session_count[1], 'week3_session_count':week_session_count[2], 'week4_session_count':week_session_count[3], 'week5_session_count':week_session_count[4]})\n",
        "\n",
        "wk_cnts_csv = wk_cnts.merge(enrollment_data, left_on='enrollment_id', right_on='enrollment_id', how='inner')[['enrollment_id', 'week1_session_count', 'week2_session_count', 'week3_session_count','week4_session_count', 'week5_session_count']]\n",
        "wk_cnts_csv.to_csv('generated/wk_session_cnts.csv', index=False)\n",
        "\n",
        "\n"
      ],
      "execution_count": 0,
      "outputs": []
    },
    {
      "cell_type": "markdown",
      "metadata": {
        "id": "O_8lzQ1_W8BS",
        "colab_type": "text"
      },
      "source": [
        "Activity count of user on a daily basis on the modules of the course. This helps to know the active days of the user for the duration of 30 days i.e the course duration.\n",
        "\n",
        "Extracted data is stored in - generated/daily_cnts.csv"
      ]
    },
    {
      "cell_type": "code",
      "metadata": {
        "id": "yIGDoxPdtZlT",
        "colab_type": "code",
        "colab": {}
      },
      "source": [
        "#code for generating days in activity\n",
        "\n",
        "from datetime import timedelta\n",
        "\n",
        "dates_data['from'] = pd.to_datetime(dates_data['from'])\n",
        "dates_data['to'] = pd.to_datetime(dates_data['to'])\n",
        "log_data['time'] = pd.to_datetime(log_data['time'])\n",
        "enrollment_ids = []\n",
        "daily_activity_count = [[] for i in range(30)]\n",
        "\n",
        "def append_wk_counts(start_from, time_values):\n",
        "  start_date = start_from\n",
        "  end_date = start_date + pd.Timedelta(timedelta(days = 1))\n",
        "  for i in range(30):\n",
        "    daily_activity_count[i].append(np.sum((start_date <= time_values) & (end_date > time_values), axis =0 ))\n",
        "    start_date = end_date\n",
        "    end_date = start_date + pd.Timedelta(timedelta(days = 1))\n",
        "  \n",
        "\n",
        "for i in range(enrollment_data.shape[0]):\n",
        "    enrollment_ids.append(enrollment_data['enrollment_id'][i])\n",
        "    start_end = dates_data.loc[dates_data['course_id'] == enrollment_data['course_id'][i]][['from','to']]\n",
        "    time_values = log_data.loc[log_data['enrollment_id'] == enrollment_data['enrollment_id'][i]]['time']\n",
        "    append_wk_counts(start_end['from'].values, time_values.values)\n",
        "\n",
        "\n",
        "dict_to_csv = {'day{0}_activity_count'.format(i+1):activity for i, activity in enumerate(daily_activity_count)}\n",
        "dict_to_csv['enrollment_id'] = enrollment_ids\n",
        "daily_cnts= pd.DataFrame(dict_to_csv)\n",
        "\n",
        "daily_cnts_csv = daily_cnts.merge(enrollment_data, left_on='enrollment_id', right_on='enrollment_id', how='inner')[dict_to_csv.keys()]\n",
        "\n",
        "daily_cnts_csv.to_csv('generated/daily_cnts.csv', index=False)"
      ],
      "execution_count": 0,
      "outputs": []
    },
    {
      "cell_type": "markdown",
      "metadata": {
        "id": "s5lbsU5bXHAG",
        "colab_type": "text"
      },
      "source": [
        "Extracted the count of the access of different modules in a course by the students. Higher the access of modules in different categories might result in high completion rate.\n",
        "\n",
        "Extracted data is stored in - extracted_category.csv"
      ]
    },
    {
      "cell_type": "code",
      "metadata": {
        "id": "dk5UR6O5s4Zo",
        "colab_type": "code",
        "colab": {}
      },
      "source": [
        "# fetch category data for each log..\n",
        "\n",
        "log_object_merge = log_data.merge(object_data, left_on='object', right_on='module_id', how='inner')\n",
        "df_category = pd.DataFrame(np.zeros((enrollment_data.shape[0],16)), columns=['enrollment_id','about','chapter','course','course_info','html','outlink','problem','sequential','static_tab','vertical','video','combinedopenended','peergrading','discussion','dictation'])\n",
        "df_category[\"enrollment_id\"] = enrollment_data[\"enrollment_id\"]\n",
        "\n",
        "\n",
        "last_enrollment = df_category['enrollment_id'][0]\n",
        "df_category_index = 0\n",
        "\n",
        "df_category = df_category.to_dict()\n",
        "\n",
        "sorted_log_object_merge = log_object_merge.sort_values(by=['enrollment_id'],ignore_index=True)\n",
        "\n",
        "for i in range(sorted_log_object_merge.shape[0] -1 ):\n",
        "  enrollment_id = sorted_log_object_merge['enrollment_id'][i]\n",
        "\n",
        "  if enrollment_id != last_enrollment:\n",
        "    df_category_index += 1\n",
        "    last_enrollment = enrollment_id\n",
        "\n",
        "  category_ = sorted_log_object_merge['category'][i]\n",
        "  df_category[category_][df_category_index] += 1\n",
        "\n",
        "\n",
        "df = pd.DataFrame.from_dict(df_category)\n",
        "df.to_csv('generated/extracted_category.csv', index=False)\n",
        "\n"
      ],
      "execution_count": 0,
      "outputs": []
    },
    {
      "cell_type": "markdown",
      "metadata": {
        "id": "bgiQSXwgXKRM",
        "colab_type": "text"
      },
      "source": [
        "The data of each of the 39 courses which students can enroll. This will help us know the course which has more enrollments, which might have impact on the number of students completing the course.\n",
        "\n",
        "Extracted data is stored in - encoded_course.csv"
      ]
    },
    {
      "cell_type": "code",
      "metadata": {
        "id": "1ON56K15tY3N",
        "colab_type": "code",
        "colab": {}
      },
      "source": [
        "# one hot encoding courses.\n",
        "encoded_courses= pd.get_dummies(enrollment_data['course_id'], prefix = 'course')\n",
        "encoded_enrollment = pd.concat([enrollment_data[['enrollment_id']], encoded_courses], axis=1)\n",
        "\n",
        "encoded_enrollment.to_csv('generated/encoded_course.csv', index=False)"
      ],
      "execution_count": 0,
      "outputs": []
    },
    {
      "cell_type": "markdown",
      "metadata": {
        "id": "glvgluYkXOXn",
        "colab_type": "text"
      },
      "source": [
        "Finally, all generated csv's are merged to produce one final csv. This final csv is used for training and cross-validation to build the model.\n",
        "\n",
        "\n"
      ]
    },
    {
      "cell_type": "code",
      "metadata": {
        "id": "gdsgb4agtfB_",
        "colab_type": "code",
        "outputId": "47b2e4fe-d918-45d3-9d44-c6a238342872",
        "colab": {
          "base_uri": "https://localhost:8080/",
          "height": 34
        }
      },
      "source": [
        "#Merge columns\n",
        "\n",
        "active_days = pd.read_csv('generated/active_days.csv')\n",
        "completion_rate_for_courses = pd.read_csv('generated/completion_rate_for_courses.csv')\n",
        "\n",
        "merge1 = active_days.merge(completion_rate_for_courses, left_on='enrollment_id', right_on='enrollment_id', how='inner')\n",
        "\n",
        "\n",
        "extracted_category = pd.read_csv('generated/extracted_category.csv')\n",
        "merge2 = merge1.merge(extracted_category, left_on='enrollment_id', right_on='enrollment_id', how='inner')\n",
        "\n",
        "\n",
        "individual_completion_rate = pd.read_csv('generated/individual_completion_rate.csv')\n",
        "merge3 = merge2.merge(individual_completion_rate, left_on='enrollment_id', right_on='enrollment_id', how='inner')\n",
        "\n",
        "\n",
        "number_of_course = pd.read_csv('generated/number_of_course.csv')\n",
        "merge4 = merge3.merge(number_of_course, left_on='enrollment_id', right_on='enrollment_id', how='inner')\n",
        "\n",
        "number_of_module = pd.read_csv('generated/number_of_module.csv')\n",
        "merge5 = merge4.merge(number_of_module, left_on='enrollment_id', right_on='enrollment_id', how='inner')\n",
        "\n",
        "number_of_users_per_course= pd.read_csv('generated/number_of_users_per_course.csv')\n",
        "merge6 = merge5.merge(number_of_users_per_course, left_on='enrollment_id', right_on='enrollment_id', how='inner')\n",
        "\n",
        "time_data = pd.read_csv('generated/time_data.csv')\n",
        "merge7 = merge6.merge(time_data, left_on='enrollment_id', right_on='enrollment_id', how='inner')\n",
        "\n",
        "time_data_less_than_60 = pd.read_csv('generated/time_data_60.csv')\n",
        "merge8 = merge7.merge(time_data_less_than_60, left_on='enrollment_id', right_on='enrollment_id', how='inner')\n",
        "\n",
        "parallel_enrollments = pd.read_csv('generated/parallel_enrollments.csv')\n",
        "merge9 = merge8.merge(parallel_enrollments, left_on='enrollment_id', right_on='enrollment_id', how='inner')\n",
        "\n",
        "week_counts = pd.read_csv('generated/wk_cnts.csv')\n",
        "merge10 = merge9.merge(week_counts, left_on='enrollment_id', right_on='enrollment_id', how='inner')\n",
        "\n",
        "encoded_courses = pd.read_csv('generated/encoded_course.csv')\n",
        "merge11 = merge10.merge(encoded_courses, left_on='enrollment_id', right_on='enrollment_id', how='inner')\n",
        "\n",
        "daily_activity_count = pd.read_csv('generated/daily_cnts.csv')\n",
        "merge12 = merge11.merge(daily_activity_count, left_on='enrollment_id', right_on='enrollment_id', how='inner')\n",
        "\n",
        "week_sessions_count = pd.read_csv('generated/wk_session_cnts.csv')\n",
        "merge13 = merge12.merge(week_sessions_count, left_on='enrollment_id', right_on='enrollment_id', how='inner')\n",
        "\n",
        "module_percentage_count = pd.read_csv('generated/percentage_of_module.csv')\n",
        "merge14 = merge13.merge(module_percentage_count, left_on='enrollment_id', right_on='enrollment_id', how='inner')\n",
        "\n",
        "merge14.shape"
      ],
      "execution_count": 0,
      "outputs": [
        {
          "output_type": "execute_result",
          "data": {
            "text/plain": [
              "(24013, 132)"
            ]
          },
          "metadata": {
            "tags": []
          },
          "execution_count": 9
        }
      ]
    },
    {
      "cell_type": "code",
      "metadata": {
        "id": "d6kTbCjNtjXS",
        "colab_type": "code",
        "colab": {}
      },
      "source": [
        "merge14.to_csv('merged/finalData.csv', index=False)"
      ],
      "execution_count": 0,
      "outputs": []
    },
    {
      "cell_type": "code",
      "metadata": {
        "id": "n4QEd_aRtkw5",
        "colab_type": "code",
        "outputId": "4ba2a0e6-8f22-43b7-a7bf-b2d0ef954991",
        "colab": {
          "base_uri": "https://localhost:8080/",
          "height": 34
        }
      },
      "source": [
        "  data = pd.read_csv('merged/finalData.csv')\n",
        "  data.shape"
      ],
      "execution_count": 0,
      "outputs": [
        {
          "output_type": "execute_result",
          "data": {
            "text/plain": [
              "(24013, 132)"
            ]
          },
          "metadata": {
            "tags": []
          },
          "execution_count": 11
        }
      ]
    }
  ]
}