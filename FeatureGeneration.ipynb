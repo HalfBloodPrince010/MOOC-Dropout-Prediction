{
  "nbformat": 4,
  "nbformat_minor": 0,
  "metadata": {
    "colab": {
      "name": "FeatureGeneration.ipynb",
      "provenance": [],
      "collapsed_sections": []
    },
    "kernelspec": {
      "name": "python3",
      "display_name": "Python 3"
    }
  },
  "cells": [
    {
      "cell_type": "code",
      "metadata": {
        "id": "ajgJp5VU0Qkt",
        "colab_type": "code",
        "colab": {}
      },
      "source": [
        "import numpy as np\n",
        "import pandas as pd"
      ],
      "execution_count": 0,
      "outputs": []
    },
    {
      "cell_type": "code",
      "metadata": {
        "id": "UExdD8vh0Zmu",
        "colab_type": "code",
        "colab": {}
      },
      "source": [
        "import os\n",
        "os.chdir('/content/test')"
      ],
      "execution_count": 0,
      "outputs": []
    },
    {
      "cell_type": "code",
      "metadata": {
        "id": "8vSibwb80WHd",
        "colab_type": "code",
        "outputId": "fdcd830a-446c-40da-b469-2a6b6b3433e8",
        "colab": {
          "base_uri": "https://localhost:8080/",
          "height": 34
        }
      },
      "source": [
        "!pwd"
      ],
      "execution_count": 83,
      "outputs": [
        {
          "output_type": "stream",
          "text": [
            "/content/test\n"
          ],
          "name": "stdout"
        }
      ]
    },
    {
      "cell_type": "code",
      "metadata": {
        "id": "6cMj5EWg2gHV",
        "colab_type": "code",
        "colab": {}
      },
      "source": [
        "#training data\n",
        "\n",
        "object_data = pd.read_csv('object.csv')\n",
        "dates_data = pd.read_csv('date.csv')\n",
        "\n",
        "log_data = pd.read_csv('log_train.csv')\n",
        "enrollment_data = pd.read_csv('enrollment_train.csv')\n",
        "\n",
        "truth_data = pd.read_csv('truth_train.csv', names=['enrollment_id', 'label'])\n"
      ],
      "execution_count": 0,
      "outputs": []
    },
    {
      "cell_type": "code",
      "metadata": {
        "id": "b0u-j8Zb_Tj3",
        "colab_type": "code",
        "outputId": "b0d07a04-eee4-433d-9a3a-70be0622bac1",
        "colab": {
          "base_uri": "https://localhost:8080/",
          "height": 102
        }
      },
      "source": [
        "\n",
        "print(\"Columns in object data is :{}\".format(object_data.columns))\n",
        "print(\"Columns in date data is :{}\".format(dates_data.columns))\n",
        "\n",
        "print(\"Columns in log data is :{}\".format(log_data.columns))\n",
        "print(\"Columns in enrollment data is :{}\".format(enrollment_data.columns))\n",
        "\n",
        "print(\"Columns in truth data is :{}\".format(truth_data.columns))\n"
      ],
      "execution_count": 0,
      "outputs": [
        {
          "output_type": "stream",
          "text": [
            "Columns in object data is :Index(['course_id', 'module_id', 'category', 'children', 'start'], dtype='object')\n",
            "Columns in date data is :Index(['course_id', 'from', 'to'], dtype='object')\n",
            "Columns in log data is :Index(['enrollment_id', 'time', 'source', 'event', 'object'], dtype='object')\n",
            "Columns in enrollment data is :Index(['enrollment_id', 'username', 'course_id'], dtype='object')\n",
            "Columns in truth data is :Index(['enrollment_id', 'label'], dtype='object')\n"
          ],
          "name": "stdout"
        }
      ]
    },
    {
      "cell_type": "code",
      "metadata": {
        "id": "Mkfv9rCx7iFM",
        "colab_type": "code",
        "colab": {}
      },
      "source": [
        "#gives number of course taken by each user.\n",
        "# no need to handle any data imputations.\n",
        "username = []\n",
        "number_of_course = []\n",
        "\n",
        "for i in range(enrollment_data.shape[0]):\n",
        "    if enrollment_data['username'][i] not in username:\n",
        "        username.append(enrollment_data['username'][i])\n",
        "        number_of_course.append(enrollment_data[enrollment_data['username'] == enrollment_data['username'][i]].shape[0])\n",
        "\n",
        "user_course = pd.DataFrame({'username':username,'number_of_course':number_of_course})\n",
        "\n",
        "parallel_courses = user_course.merge(enrollment_data, left_on='username', right_on='username', how='inner')[['enrollment_id', 'number_of_course']]\n",
        "\n",
        "parallel_courses.to_csv('generated/number_of_course.csv', index=False)"
      ],
      "execution_count": 0,
      "outputs": []
    },
    {
      "cell_type": "code",
      "metadata": {
        "id": "nx9LUPCkBWhp",
        "colab_type": "code",
        "colab": {}
      },
      "source": [
        "# gives number of users taken the same course. Merge this with the enrollment.\n",
        "# no need to handle any data imputations.\n",
        "course_id = []\n",
        "number_of_users = []\n",
        "\n",
        "for course in enrollment_data['course_id'].unique():\n",
        "  course_id.append(course)\n",
        "  number_of_users.append(len(enrollment_data[enrollment_data['course_id'] == course]))\n",
        "\n",
        "number_of_enrollments_per_course = pd.DataFrame({'course_id':course_id,'number_of_users_in_course':number_of_users})\n",
        "\n",
        "merge_enrollments_with_course = enrollment_data.merge(number_of_enrollments_per_course, left_on='course_id', right_on='course_id', how='inner')[['enrollment_id', 'number_of_users_in_course']]\n",
        "merge_enrollments_with_course.to_csv('generated/number_of_users_per_course.csv', index=False)"
      ],
      "execution_count": 0,
      "outputs": []
    },
    {
      "cell_type": "code",
      "metadata": {
        "id": "DyuRBd5dPTcY",
        "colab_type": "code",
        "colab": {}
      },
      "source": [
        "#Find the success rate of each course \n",
        "# no need to handle any data imputations.\n",
        "# enrollment_label_merge = enrollment_data.merge(truth_data, left_on='enrollment_id', right_on='enrollment_id', how='inner')\n",
        "\n",
        "# courses = []\n",
        "# completions = []\n",
        "\n",
        "# for course in enrollment_label_merge['course_id'].unique():\n",
        "#   course_enrollment_data = enrollment_label_merge[enrollment_label_merge['course_id'] == course]\n",
        "#   total = course_enrollment_data.shape[0]\n",
        "#   completion = len(course_enrollment_data[course_enrollment_data['label'] == 0]) # 0 is success\n",
        "#   completion_rate = (completion/total) * 100\n",
        "\n",
        "#   courses.append(course)\n",
        "#   completions.append(completion_rate)\n",
        "\n",
        "# course_completion_rate = pd.DataFrame({'course_id':courses,'overall_course_completion_rate':completions})\n",
        "# merge_enrollments_with_completions = enrollment_data.merge(course_completion_rate, left_on='course_id', right_on='course_id', how='inner')[['enrollment_id', 'overall_course_completion_rate']]\n",
        "# merge_enrollments_with_completions.to_csv('generated/completion_rate_for_courses.csv', index=False)"
      ],
      "execution_count": 0,
      "outputs": []
    },
    {
      "cell_type": "code",
      "metadata": {
        "id": "teYk7kCRcc0Y",
        "colab_type": "code",
        "colab": {}
      },
      "source": [
        "# #test cell\n",
        "# completion_rate_for_courses = pd.read_csv('train/generated/completion_rate_for_courses.csv')\n",
        "# del completion_rate_for_courses['Unnamed: 0']\n",
        "\n",
        "# completion_rate_for_courses.to_csv('train/completion_rate_for_courses.csv', index=False)"
      ],
      "execution_count": 0,
      "outputs": []
    },
    {
      "cell_type": "code",
      "metadata": {
        "id": "NpkUL55I7QI1",
        "colab_type": "code",
        "colab": {}
      },
      "source": [
        "# Number of module accessed\n",
        "# no need to handle any data imputations.\n",
        "enrollment_id = []\n",
        "number_of_module = []\n",
        "\n",
        "for enrollment in log_data['enrollment_id'].unique():\n",
        "  enr = log_data[log_data['enrollment_id'] == enrollment]\n",
        "  number_of_objects_enr =  len(enr['object'].unique())\n",
        "  enrollment_id.append(enrollment)\n",
        "  number_of_module.append(number_of_objects_enr)\n",
        "\n",
        "number_of_objects = pd.DataFrame({'enrollment_id':enrollment_id,'number_of_module':number_of_module})\n",
        "number_of_objects.to_csv('generated/number_of_module.csv', index=False)"
      ],
      "execution_count": 0,
      "outputs": []
    },
    {
      "cell_type": "code",
      "metadata": {
        "id": "dn3rs4DadmO-",
        "colab_type": "code",
        "colab": {}
      },
      "source": [
        "# #test cell\n",
        "# number_of_module = pd.read_csv('train/generated/number_of_module.csv')\n",
        "# del number_of_module['Unnamed: 0']\n",
        "\n",
        "# number_of_module.to_csv('train/number_of_module.csv', index=False)\n"
      ],
      "execution_count": 0,
      "outputs": []
    },
    {
      "cell_type": "code",
      "metadata": {
        "id": "YeFCCvJH8zob",
        "colab_type": "code",
        "colab": {}
      },
      "source": [
        "# time duration spent on each event by the user in the course!\n",
        "\n",
        "import time\n",
        "from datetime import datetime\n",
        "from dateutil.parser import parse\n",
        "\n",
        "\n",
        "event_data_frame = pd.DataFrame(np.zeros((enrollment_data.shape[0],15)), columns = ['enrollment_id','time_access_browser','time_access_server','time_navigate_browser','time_navigate_server','time_problem_browser','time_problem_server','time_page_close_server','time_page_close_browser','time_video_server','time_video_browser','time_discussion_server','time_discussion_browser','time_wiki_server','time_wiki_browser'])\n",
        "event_data_frame[\"enrollment_id\"] = enrollment_data[\"enrollment_id\"]\n",
        "\n",
        "enrollment_index = 0\n",
        "last_seen_enrollment = log_data[\"enrollment_id\"][0]\n",
        "\t\n",
        "data_frame = event_data_frame.to_dict()\n",
        "\n",
        "for i in range(log_data.shape[0] -1):\n",
        "  enrollment_id = log_data[\"enrollment_id\"][i]\n",
        "  \n",
        "  if enrollment_id != last_seen_enrollment:\n",
        "    enrollment_index += 1\n",
        "    last_seen_enrollment = enrollment_id\n",
        "  \n",
        "  event = log_data[\"event\"][i]\n",
        "  source = log_data[\"source\"][i]\n",
        "\n",
        "  if log_data[\"enrollment_id\"][i+1] == log_data[\"enrollment_id\"][i] :\n",
        "    time_spent = (parse(log_data[\"time\"][i+1]) - parse(log_data[\"time\"][i])).total_seconds()\n",
        "    if  time_spent < 7200:\n",
        "      time_span = time_spent\n",
        "    else:\n",
        "      time_span = 0\n",
        "\n",
        "  event_type = \"time_\"+event+\"_\"+source\n",
        "  data_frame[event_type][enrollment_index] += time_span\n",
        "\n",
        "event_data_frame = pd.DataFrame.from_dict(data_frame)\n",
        "event_data_frame.to_csv('generated/time_data_old.csv', index=False)"
      ],
      "execution_count": 0,
      "outputs": []
    },
    {
      "cell_type": "code",
      "metadata": {
        "id": "MxlhVYpdsgbO",
        "colab_type": "code",
        "colab": {}
      },
      "source": [
        "# #test cell\n",
        "time_data = pd.read_csv('generated/time_data_old.csv')\n",
        "time_data.columns\n",
        "\n",
        "del time_data['time_navigate_browser']\n",
        "del time_data['time_discussion_browser']\n",
        "del time_data['time_page_close_server']\n",
        "del time_data['time_wiki_browser']\n",
        "del time_data['time_video_server']\n",
        "\n",
        "time_data.to_csv('generated/time_data.csv', index=False)\n"
      ],
      "execution_count": 0,
      "outputs": []
    },
    {
      "cell_type": "code",
      "metadata": {
        "id": "Iln1Lz5JifZv",
        "colab_type": "code",
        "colab": {}
      },
      "source": [
        "# number of logs less than 60 seconds on any event\n",
        "\n",
        "event_data_frame = pd.DataFrame(np.zeros((enrollment_data.shape[0],15)), columns = ['enrollment_id','count_access_browser','count_access_server','count_navigate_browser','count_navigate_server','count_problem_browser','count_problem_server','count_page_close_server','count_page_close_browser','count_video_server','count_video_browser','count_discussion_server','count_discussion_browser','count_wiki_server','count_wiki_browser'])\n",
        "event_data_frame[\"enrollment_id\"] = enrollment_data[\"enrollment_id\"]\n",
        "\n",
        "enrollment_index = 0\n",
        "last_seen_enrollment = log_data[\"enrollment_id\"][0]\n",
        "\t\n",
        "data_frame = event_data_frame.to_dict()\n",
        "\n",
        "for i in range(log_data.shape[0] -1):\n",
        "  enrollment_id = log_data[\"enrollment_id\"][i]\n",
        "  \n",
        "  if enrollment_id != last_seen_enrollment:\n",
        "    enrollment_index += 1\n",
        "    last_seen_enrollment = enrollment_id\n",
        "  \n",
        "  event = log_data[\"event\"][i]\n",
        "  source = log_data[\"source\"][i]\n",
        "\n",
        "  if log_data[\"enrollment_id\"][i+1] == log_data[\"enrollment_id\"][i] :\n",
        "    time_spent = (parse(log_data[\"time\"][i+1]) - parse(log_data[\"time\"][i])).total_seconds()\n",
        "    if time_spent < 60:\n",
        "      event_type = \"count_\"+event+\"_\"+source\n",
        "      data_frame[event_type][enrollment_index] += 1\n",
        "\n",
        "event_data_frame = pd.DataFrame.from_dict(data_frame)\n",
        "event_data_frame.to_csv('generated/time_data_60_old.csv', index=False)"
      ],
      "execution_count": 0,
      "outputs": []
    },
    {
      "cell_type": "code",
      "metadata": {
        "id": "wa27cHLe6K3o",
        "colab_type": "code",
        "colab": {}
      },
      "source": [
        "event_data_frame = pd.read_csv('generated/time_data_60_old.csv')\n",
        "event_data_frame.columns\n",
        "del event_data_frame['count_navigate_browser']\n",
        "del event_data_frame['count_discussion_browser']\n",
        "del event_data_frame['count_page_close_server']\n",
        "del event_data_frame['count_wiki_browser']\n",
        "del event_data_frame['count_video_server']\n",
        "\n",
        "event_data_frame.to_csv('generated/time_data_60.csv', index=False)"
      ],
      "execution_count": 0,
      "outputs": []
    },
    {
      "cell_type": "code",
      "metadata": {
        "id": "igZyC0vxlBfr",
        "colab_type": "code",
        "colab": {}
      },
      "source": [
        "# fetch category data for each log..\n",
        "\n",
        "log_object_merge = log_data.merge(object_data, left_on='object', right_on='module_id', how='inner')\n",
        "df_category = pd.DataFrame(np.zeros((enrollment_data.shape[0],16)), columns=['enrollment_id','about','chapter','course','course_info','html','outlink','problem','sequential','static_tab','vertical','video','combinedopenended','peergrading','discussion','dictation'])\n",
        "df_category[\"enrollment_id\"] = enrollment_data[\"enrollment_id\"]\n",
        "\n",
        "\n",
        "last_enrollment = df_category['enrollment_id'][0]\n",
        "df_category_index = 0\n",
        "\n",
        "df_category = df_category.to_dict()\n",
        "\n",
        "sorted_log_object_merge = log_object_merge.sort_values(by=['enrollment_id'],ignore_index=True)\n",
        "\n",
        "for i in range(sorted_log_object_merge.shape[0] -1 ):\n",
        "  enrollment_id = sorted_log_object_merge['enrollment_id'][i]\n",
        "\n",
        "  if enrollment_id != last_enrollment:\n",
        "    df_category_index += 1\n",
        "    last_enrollment = enrollment_id\n",
        "\n",
        "  category_ = sorted_log_object_merge['category'][i]\n",
        "  df_category[category_][df_category_index] += 1\n",
        "\n",
        "\n",
        "df = pd.DataFrame.from_dict(df_category)\n",
        "df.to_csv('generated/extracted_category.csv', index=False)\n",
        "\n"
      ],
      "execution_count": 0,
      "outputs": []
    },
    {
      "cell_type": "code",
      "metadata": {
        "id": "eBIOWtoPd1te",
        "colab_type": "code",
        "colab": {}
      },
      "source": [
        "# #test cell\n",
        "# extracted_category = pd.read_csv('train/generated/extracted_category.csv')\n",
        "# del extracted_category['Unnamed: 0']\n",
        "\n",
        "# extracted_category.to_csv('train/extracted_category.csv', index=False)\n"
      ],
      "execution_count": 0,
      "outputs": []
    },
    {
      "cell_type": "code",
      "metadata": {
        "id": "LZgetFgRZv6l",
        "colab_type": "code",
        "colab": {}
      },
      "source": [
        "#get success rate for individual enrollments\n",
        "\n",
        "# number_of_users = len(enrollment_data['username'].unique())\n",
        "# enrollment_truth_merge = enrollment_data.merge(truth_data, left_on='enrollment_id', right_on='enrollment_id', how='inner')\n",
        "\n",
        "# df_total_usernames = pd.DataFrame(np.zeros((number_of_users,4)), columns=['username','total_enrollments','drop_rate', 'completion_rate'])\n",
        "# count = 0\n",
        "# for user in enrollment_truth_merge['username'].unique():\n",
        "#   user_pd = enrollment_truth_merge[enrollment_truth_merge['username'] == user]\n",
        "#   print(user_pd['username'].values[0])\n",
        "#   df_total_usernames.loc[count, 'username'] = user_pd['username'].values[0]\n",
        "#   df_total_usernames.loc[count, 'total_enrollments'] = user_pd.shape[0]\n",
        "#   df_total_usernames.loc[count, 'drop_rate'] = (user_pd[user_pd['label'] == 1].shape[0]) / user_pd.shape[0]\n",
        "#   df_total_usernames.loc[count, 'completion_rate'] = (user_pd[user_pd['label'] == 0].shape[0]) / user_pd.shape[0]\n",
        "#   count += 1\n",
        "\n",
        "# completion_rate = df_total_usernames.merge(enrollment_data, left_on='username', right_on='username', how='inner')[['enrollment_id', 'drop_rate', 'completion_rate']]\n",
        "\n",
        "# completion_rate.to_csv('generated/individual_completion_rate.csv', index=False)"
      ],
      "execution_count": 0,
      "outputs": []
    },
    {
      "cell_type": "code",
      "metadata": {
        "id": "g722UTEAoJDZ",
        "colab_type": "code",
        "colab": {}
      },
      "source": [
        "# #test cell\n",
        "# completion_rate = pd.read_csv('train/generated/individual_completion_rate.csv')\n",
        "# del completion_rate['Unnamed: 0']\n",
        "\n",
        "# completion_rate.to_csv('train/individual_completion_rate.csv', index=False)"
      ],
      "execution_count": 0,
      "outputs": []
    },
    {
      "cell_type": "code",
      "metadata": {
        "id": "pkiD-yOBc8-X",
        "colab_type": "code",
        "colab": {}
      },
      "source": [
        "#Fetch the number of active days for each enrollment\n",
        "import time\n",
        "from datetime import datetime\n",
        "from dateutil.parser import parse\n",
        "\n",
        "enrollments = []\n",
        "active_days = []\n",
        "\n",
        "for enrollment in log_data['enrollment_id'].unique():\n",
        "  number_of_active_days = pd.to_datetime(log_data[log_data['enrollment_id'] == enrollment]['time']).dt.date.unique().shape[0]\n",
        "  print(\"Enrollment ID :{}\".format(enrollment))\n",
        "  enrollments.append(enrollment)\n",
        "  active_days.append(number_of_active_days)\n",
        "\n",
        "\n",
        "number_of_active_day = pd.DataFrame({'enrollment_id':enrollments,'active_days':active_days})\n",
        "number_of_active_day.to_csv('generated/active_days.csv', index=False)\n",
        "# merge_enrollments_with_course.to_csv('train/completion_rate_for_courses.csv', index='False')\n",
        "\n",
        "#local_enrollment[\"time\"].map(lambda t: t.date()).unique()\n",
        "#pd.to_datetime(local_enrollment['time']).dt.date.unique().shape[0]\n",
        "#number_of_active_day\n"
      ],
      "execution_count": 0,
      "outputs": []
    },
    {
      "cell_type": "code",
      "metadata": {
        "id": "Ld5FLq7419w-",
        "colab_type": "code",
        "colab": {}
      },
      "source": [
        "#Code to fetch parallel enrollments....Use index=False while using to_csv\n",
        "\n",
        "pd.options.mode.chained_assignment = None\n",
        "\n",
        "username = []\n",
        "number_of_course = []\n",
        "\n",
        "def interval_overlaps(a, b):\n",
        "  return min(a['to'], b['to']) - max(a['from'], b['from']) > np.timedelta64(0)\n",
        "\n",
        "\n",
        "def count_overlaps(df1):\n",
        "  #print(df1)\n",
        "  return pd.Series([df1.apply(lambda x: interval_overlaps(x, df1.iloc[i]), axis=1).sum() - 1 for i in range(len(df1))], df1.index)\n",
        "\n",
        "def get_parallel_enrollment_cnt(course_id_data_frame):\n",
        "  if len(course_id_data_frame) < 2:\n",
        "    return 0\n",
        "  df = dates_data.loc[dates_data['course_id'].isin(course_id_data_frame)]\n",
        "  df['from'] = pd.to_datetime(df['from']) \n",
        "  df['to'] = pd.to_datetime(df['to'])\n",
        "  overlap_list = df.groupby([True]*len(df)).apply(count_overlaps).values[0]\n",
        "  if sum(overlap_list) == 0:\n",
        "    return 0\n",
        "  else:\n",
        "    return sum(overlap_list)//np.count_nonzero(np.array(overlap_list))\n",
        "\n",
        "for i in range(enrollment_data.shape[0]):\n",
        "    if enrollment_data['username'][i] not in username:\n",
        "        username.append(enrollment_data['username'][i])\n",
        "        user_df = enrollment_data.loc[enrollment_data['username'] == username[-1]]\n",
        "        number_of_course.append(get_parallel_enrollment_cnt(user_df['course_id']))\n",
        "    \n",
        "\n",
        "user_course = pd.DataFrame({'username':username,'parallel_enrollments':number_of_course})\n",
        "\n",
        "parallel_courses = user_course.merge(enrollment_data, left_on='username', right_on='username', how='inner')[['enrollment_id', 'parallel_enrollments']]\n",
        "\n",
        "parallel_courses.to_csv('generated/parallel_enrollments.csv', index=False)\n"
      ],
      "execution_count": 0,
      "outputs": []
    },
    {
      "cell_type": "code",
      "metadata": {
        "id": "3u9YJSom2Aww",
        "colab_type": "code",
        "colab": {}
      },
      "source": [
        "#Code to fetch activities in weeks....\n",
        "\n",
        "from datetime import timedelta\n",
        "\n",
        "dates_data['from'] = pd.to_datetime(dates_data['from'])\n",
        "dates_data['to'] = pd.to_datetime(dates_data['to'])\n",
        "log_data['time'] = pd.to_datetime(log_data['time'])\n",
        "\n",
        "enrollment_ids = []\n",
        "week_activity_count = [[],[],[],[], []]\n",
        "\n",
        "def append_wk_counts(start_from, time_values):\n",
        "  start_date = start_from\n",
        "  end_date = start_date + pd.Timedelta(timedelta(days = 7))\n",
        "  for i in range(5):\n",
        "    week_activity_count[i].append(np.sum((start_date <= time_values) & (end_date > time_values), axis =0 ))\n",
        "    start_date = end_date\n",
        "    end_date = start_date + pd.Timedelta(timedelta(days = 7))\n",
        "  \n",
        "\n",
        "for i in range(enrollment_data.shape[0]):\n",
        "    enrollment_ids.append(enrollment_data['enrollment_id'][i])\n",
        "    start_end = dates_data.loc[dates_data['course_id'] == enrollment_data['course_id'][i]][['from','to']]\n",
        "    time_values = log_data.loc[log_data['enrollment_id'] == enrollment_data['enrollment_id'][i]]['time']\n",
        "    append_wk_counts(start_end['from'].values, time_values.values)\n",
        "\n",
        "\n",
        "wk_cnts= pd.DataFrame({'enrollment_id':enrollment_ids,'week1_activity_count':week_activity_count[0], 'week2_activity_count':week_activity_count[1], 'week3_activity_count':week_activity_count[2], 'week4_activity_count':week_activity_count[3], 'week5_activity_count':week_activity_count[4]})\n",
        "\n",
        "wk_cnts_csv = wk_cnts.merge(enrollment_data, left_on='enrollment_id', right_on='enrollment_id', how='inner')[['enrollment_id', 'week1_activity_count', 'week2_activity_count', 'week3_activity_count','week4_activity_count', 'week5_activity_count']]\n",
        "\n",
        "wk_cnts_csv.to_csv('generated/wk_cnts.csv', index=False)"
      ],
      "execution_count": 0,
      "outputs": []
    },
    {
      "cell_type": "code",
      "metadata": {
        "id": "UdoITTeft-lK",
        "colab_type": "code",
        "colab": {}
      },
      "source": [
        "# #test cell\n",
        "# active_days = pd.read_csv('train/generated/active_days.csv')\n",
        "# del active_days['Unnamed: 0']\n",
        "\n",
        "# active_days.to_csv('train/active_days.csv', index=False)"
      ],
      "execution_count": 0,
      "outputs": []
    },
    {
      "cell_type": "code",
      "metadata": {
        "id": "93NitkR62Tnp",
        "colab_type": "code",
        "colab": {}
      },
      "source": [
        "# parallel_enrollments = pd.read_csv('train/parallel_enrollments.csv')\n",
        "# del parallel_enrollments['Unnamed: 0']\n",
        "# parallel_enrollments.to_csv('train/generated/parallel_enrollments.csv', index=False)"
      ],
      "execution_count": 0,
      "outputs": []
    },
    {
      "cell_type": "code",
      "metadata": {
        "id": "lOrJXxTDyO8f",
        "colab_type": "code",
        "colab": {}
      },
      "source": [
        "# week_counts = pd.read_csv('train/wk_cnts.csv')\n",
        "# del week_counts['Unnamed: 0']\n",
        "# week_counts.to_csv('train/generated/wk_cnts.csv', index=False)\n"
      ],
      "execution_count": 0,
      "outputs": []
    },
    {
      "cell_type": "code",
      "metadata": {
        "id": "nHgrw4Gq5Vb3",
        "colab_type": "code",
        "colab": {}
      },
      "source": [
        "#only in test\n",
        "\n",
        "train_course_completion_rate = pd.read_csv('/content/train/generated/completion_rate_for_courses.csv')\n",
        "train_enrollment = pd.read_csv('/content/train/enrollment_train.csv')\n",
        "\n",
        "train_merged = train_enrollment.merge(train_course_completion_rate, left_on='enrollment_id', right_on='enrollment_id', how='inner')\n",
        "\n",
        "# courses_grouped = train_merged.groupby('course_id')\n",
        "# completion_by_courses = courses_grouped.apply(lambda x: x['overall_course_completion_rate'].unique())\n",
        "\n",
        "# completion_by_courses = completion_by_courses.apply(pd.Series)\n",
        "\n",
        "\n",
        "completion_by_courses = pd.DataFrame({'course_id':train_merged.course_id.unique()})\n",
        "completion_by_courses['overall_course_completion_rate'] = [list(set(train_merged['overall_course_completion_rate'].loc[train_merged['course_id'] == x['course_id']]))[0]\n",
        "    for _, x in completion_by_courses.iterrows()]\n",
        "\n",
        "\n",
        "test_enrollment = pd.read_csv('/content/test/enrollment_train.csv')\n",
        "test_enrollment_course_completion = test_enrollment.merge(completion_by_courses, left_on='course_id', right_on='course_id', how='inner')[['enrollment_id', 'overall_course_completion_rate']]\n",
        "test_enrollment_course_completion.to_csv('/content/test/generated/completion_rate_for_courses.csv', index=False)\n",
        "\n"
      ],
      "execution_count": 0,
      "outputs": []
    },
    {
      "cell_type": "code",
      "metadata": {
        "id": "wHrci-DGVyac",
        "colab_type": "code",
        "colab": {}
      },
      "source": [
        "#only in test\n",
        "\n",
        "train_individual_completion_rate = pd.read_csv('/content/train/generated/individual_completion_rate.csv')\n",
        "train_enrollment = pd.read_csv('/content/train/enrollment_train.csv')\n",
        "\n",
        "train_merged = train_enrollment.merge(train_individual_completion_rate, left_on='enrollment_id', right_on='enrollment_id', how='inner')\n",
        "\n",
        "\n",
        "usernames = pd.DataFrame({'username':train_merged.username.unique()})\n",
        "\n",
        "usernames['drop_rate'] = [list(set(train_merged['drop_rate'].loc[train_merged['username'] == x['username']]))[0] \n",
        "    for _, x in usernames.iterrows()]\n",
        "\n",
        "usernames['completion_rate'] = [list(set(train_merged['completion_rate'].loc[train_merged['username'] == x['username']]))[0]\n",
        "    for _, x in usernames.iterrows()]\n",
        "\n",
        "\n",
        "test_enrollment = pd.read_csv('/content/test/enrollment_train.csv')\n",
        "\n",
        "merge_with_completion = test_enrollment.merge(usernames, left_on='username', right_on='username', how='left')\n",
        "\n",
        "merge_with_completion = merge_with_completion.fillna(0.5)\n",
        "merge_with_completion\n",
        "\n",
        "\n",
        "final_merge_with_filled_values = merge_with_completion[['enrollment_id', 'drop_rate', 'completion_rate']]\n",
        "\n",
        "final_merge_with_filled_values.to_csv('/content/test/generated/individual_completion_rate.csv', index=False)\n"
      ],
      "execution_count": 0,
      "outputs": []
    },
    {
      "cell_type": "code",
      "metadata": {
        "id": "qEPTJC_e28Lg",
        "colab_type": "code",
        "outputId": "7875f080-f9b3-48dd-b1e9-58ce8561f664",
        "colab": {
          "base_uri": "https://localhost:8080/",
          "height": 34
        }
      },
      "source": [
        "#Merge columns\n",
        "\n",
        "# active_days = pd.read_csv('generated/active_days.csv')\n",
        "# completion_rate_for_courses = pd.read_csv('generated/completion_rate_for_courses.csv')\n",
        "\n",
        "# merge1 = active_days.merge(completion_rate_for_courses, left_on='enrollment_id', right_on='enrollment_id', how='inner')\n",
        "\n",
        "\n",
        "# extracted_category = pd.read_csv('generated/extracted_category.csv')\n",
        "# merge2 = merge1.merge(extracted_category, left_on='enrollment_id', right_on='enrollment_id', how='inner')\n",
        "\n",
        "\n",
        "# individual_completion_rate = pd.read_csv('generated/individual_completion_rate.csv')\n",
        "# merge3 = merge2.merge(individual_completion_rate, left_on='enrollment_id', right_on='enrollment_id', how='inner')\n",
        "\n",
        "\n",
        "# number_of_course = pd.read_csv('generated/number_of_course.csv')\n",
        "# merge4 = merge3.merge(number_of_course, left_on='enrollment_id', right_on='enrollment_id', how='inner')\n",
        "\n",
        "\n",
        "# # #FIX this to percentage of modules\n",
        "# number_of_module = pd.read_csv('generated/number_of_module.csv')\n",
        "# merge5 = merge4.merge(number_of_module, left_on='enrollment_id', right_on='enrollment_id', how='inner')\n",
        "\n",
        "# number_of_users_per_course= pd.read_csv('generated/number_of_users_per_course.csv')\n",
        "# merge6 = merge5.merge(number_of_users_per_course, left_on='enrollment_id', right_on='enrollment_id', how='inner')\n",
        "\n",
        "# time_data = pd.read_csv('generated/time_data.csv')\n",
        "# merge7 = merge6.merge(time_data, left_on='enrollment_id', right_on='enrollment_id', how='inner')\n",
        "\n",
        "# time_data_less_than_60 = pd.read_csv('generated/time_data_60.csv')\n",
        "# merge8 = merge7.merge(time_data_less_than_60, left_on='enrollment_id', right_on='enrollment_id', how='inner')\n",
        "\n",
        "# parallel_enrollments = pd.read_csv('generated/parallel_enrollments.csv')\n",
        "# merge9 = merge8.merge(parallel_enrollments, left_on='enrollment_id', right_on='enrollment_id', how='inner')\n",
        "\n",
        "# week_counts = pd.read_csv('generated/wk_cnts.csv')\n",
        "# merge10 = merge9.merge(week_counts, left_on='enrollment_id', right_on='enrollment_id', how='inner')\n",
        "\n",
        "\n",
        "# merge10.shape"
      ],
      "execution_count": 0,
      "outputs": [
        {
          "output_type": "execute_result",
          "data": {
            "text/plain": [
              "(72395, 47)"
            ]
          },
          "metadata": {
            "tags": []
          },
          "execution_count": 20
        }
      ]
    },
    {
      "cell_type": "code",
      "metadata": {
        "id": "95xayLYzeApU",
        "colab_type": "code",
        "colab": {
          "base_uri": "https://localhost:8080/",
          "height": 34
        },
        "outputId": "d14f4a2e-feae-48ee-858c-d17f8ccac729"
      },
      "source": [
        "#Merge columns\n",
        "\n",
        "active_days = pd.read_csv('generated/active_days.csv')\n",
        "completion_rate_for_courses = pd.read_csv('generated/completion_rate_for_courses.csv')\n",
        "\n",
        "merge1 = active_days.merge(completion_rate_for_courses, left_on='enrollment_id', right_on='enrollment_id', how='inner')\n",
        "\n",
        "\n",
        "extracted_category = pd.read_csv('generated/extracted_category.csv')\n",
        "merge2 = merge1.merge(extracted_category, left_on='enrollment_id', right_on='enrollment_id', how='inner')\n",
        "\n",
        "\n",
        "individual_completion_rate = pd.read_csv('generated/individual_completion_rate.csv')\n",
        "merge3 = merge2.merge(individual_completion_rate, left_on='enrollment_id', right_on='enrollment_id', how='inner')\n",
        "\n",
        "\n",
        "number_of_course = pd.read_csv('generated/number_of_course.csv')\n",
        "merge4 = merge3.merge(number_of_course, left_on='enrollment_id', right_on='enrollment_id', how='inner')\n",
        "\n",
        "\n",
        "# #FIX this to percentage of modules\n",
        "number_of_module = pd.read_csv('generated/number_of_module.csv')\n",
        "merge5 = merge4.merge(number_of_module, left_on='enrollment_id', right_on='enrollment_id', how='inner')\n",
        "\n",
        "number_of_users_per_course= pd.read_csv('generated/number_of_users_per_course.csv')\n",
        "merge6 = merge5.merge(number_of_users_per_course, left_on='enrollment_id', right_on='enrollment_id', how='inner')\n",
        "\n",
        "time_data = pd.read_csv('generated/time_data.csv')\n",
        "merge7 = merge6.merge(time_data, left_on='enrollment_id', right_on='enrollment_id', how='inner')\n",
        "\n",
        "time_data_less_than_60 = pd.read_csv('generated/time_data_60.csv')\n",
        "merge8 = merge7.merge(time_data_less_than_60, left_on='enrollment_id', right_on='enrollment_id', how='inner')\n",
        "\n",
        "parallel_enrollments = pd.read_csv('generated/parallel_enrollments.csv')\n",
        "merge9 = merge8.merge(parallel_enrollments, left_on='enrollment_id', right_on='enrollment_id', how='inner')\n",
        "\n",
        "week_counts = pd.read_csv('generated/wk_cnts.csv')\n",
        "merge10 = merge9.merge(week_counts, left_on='enrollment_id', right_on='enrollment_id', how='inner')\n",
        "\n",
        "\n",
        "merge10.shape"
      ],
      "execution_count": 84,
      "outputs": [
        {
          "output_type": "execute_result",
          "data": {
            "text/plain": [
              "(24013, 47)"
            ]
          },
          "metadata": {
            "tags": []
          },
          "execution_count": 84
        }
      ]
    },
    {
      "cell_type": "code",
      "metadata": {
        "id": "30f8Ml3BV-aQ",
        "colab_type": "code",
        "colab": {}
      },
      "source": [
        "merge10.to_csv('merged/final.csv', index=False)"
      ],
      "execution_count": 0,
      "outputs": []
    },
    {
      "cell_type": "code",
      "metadata": {
        "id": "_BiQ9nm9WleU",
        "colab_type": "code",
        "outputId": "ed72f0d5-6299-4a3e-d521-5c7828a071dd",
        "colab": {
          "base_uri": "https://localhost:8080/",
          "height": 34
        }
      },
      "source": [
        "  data = pd.read_csv('merged/final.csv')\n",
        "  data.shape"
      ],
      "execution_count": 87,
      "outputs": [
        {
          "output_type": "execute_result",
          "data": {
            "text/plain": [
              "(24013, 47)"
            ]
          },
          "metadata": {
            "tags": []
          },
          "execution_count": 87
        }
      ]
    }
  ]
}